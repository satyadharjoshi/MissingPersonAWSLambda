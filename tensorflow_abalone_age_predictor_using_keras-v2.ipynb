{
 "cells": [
  {
   "cell_type": "markdown",
   "metadata": {},
   "source": [
    "# Creating Estimators in tf.estimator with Keras\n",
    "\n",
    "This tutorial covers how to create your own training script using the building\n",
    "blocks provided in `tf.keras`, which will predict the ages of\n",
    "[abalones](https://en.wikipedia.org/wiki/Abalone) based on their physical\n",
    "measurements. You'll learn how to do the following:\n",
    "\n",
    "*   Construct a custom model function\n",
    "*   Configure a neural network using `tf.keras`\n",
    "*   Choose an appropriate loss function from `tf.losses`\n",
    "*   Define a training op for your model\n",
    "*   Generate and return predictions"
   ]
  },
  {
   "cell_type": "markdown",
   "metadata": {},
   "source": [
    "## An Abalone Age Predictor\n",
    "\n",
    "It's possible to estimate the age of an\n",
    "[abalone](https://en.wikipedia.org/wiki/Abalone) (sea snail) by the number of\n",
    "rings on its shell. However, because this task requires cutting, staining, and\n",
    "viewing the shell under a microscope, it's desirable to find other measurements\n",
    "that can predict age.\n",
    "\n",
    "The [Abalone Data Set](https://archive.ics.uci.edu/ml/datasets/Abalone) contains\n",
    "the following\n",
    "[feature data](https://archive.ics.uci.edu/ml/machine-learning-databases/abalone/abalone.names)\n",
    "for abalone:\n",
    "\n",
    "| Feature        | Description                                               |\n",
    "| -------------- | --------------------------------------------------------- |\n",
    "| Length         | Length of abalone (in longest direction; in mm)           |\n",
    "| Diameter       | Diameter of abalone (measurement perpendicular to length; in mm)|\n",
    "| Height         | Height of abalone (with its meat inside shell; in mm)     |\n",
    "| Whole Weight   | Weight of entire abalone (in grams)                       |\n",
    "| Shucked Weight | Weight of abalone meat only (in grams)                    |\n",
    "| Viscera Weight | Gut weight of abalone (in grams), after bleeding          |\n",
    "| Shell Weight   | Weight of dried abalone shell (in grams)                  |\n",
    "\n",
    "The label to predict is number of rings, as a proxy for abalone age."
   ]
  },
  {
   "cell_type": "markdown",
   "metadata": {},
   "source": [
    "### Set up the environment¶"
   ]
  },
  {
   "cell_type": "code",
   "execution_count": 1,
   "metadata": {},
   "outputs": [],
   "source": [
    "import os\n",
    "import sagemaker\n",
    "from sagemaker import get_execution_role\n",
    "\n",
    "sagemaker_session = sagemaker.Session()\n",
    "\n",
    "role = get_execution_role()"
   ]
  },
  {
   "cell_type": "code",
   "execution_count": 9,
   "metadata": {},
   "outputs": [
    {
     "data": {
      "text/plain": [
       "'# Copyright 2017 Amazon.com, Inc. or its affiliates. All Rights Reserved.\\n#\\n# Licensed under the Apache License, Version 2.0 (the \"License\"). You\\n# may not use this file except in compliance with the License. A copy of\\n# the License is located at\\n#\\n#     http://aws.amazon.com/apache2.0/\\n#\\n# or in the \"license\" file accompanying this file. This file is\\n# distributed on an \"AS IS\" BASIS, WITHOUT WARRANTIES OR CONDITIONS OF\\n# ANY KIND, either express or implied. See the License for the specific\\n# language governing permissions and limitations under the License.\\nfrom __future__ import absolute_import\\n\\nfrom sagemaker import estimator\\nfrom sagemaker.amazon.kmeans import KMeans, KMeansModel, KMeansPredictor\\nfrom sagemaker.amazon.pca import PCA, PCAModel, PCAPredictor\\nfrom sagemaker.amazon.lda import LDA, LDAModel, LDAPredictor\\nfrom sagemaker.amazon.linear_learner import LinearLearner, LinearLearnerModel, LinearLearnerPredictor\\nfrom sagemaker.amazon.factorization_machines import FactorizationMachines, FactorizationMachinesModel\\nfrom sagemaker.amazon.factorization_machines import FactorizationMachinesPredictor\\nfrom sagemaker.amazon.ntm import NTM, NTMModel, NTMPredictor\\n\\nfrom sagemaker.local.local_session import LocalSession\\n\\nfrom sagemaker.model import Model\\nfrom sagemaker.predictor import RealTimePredictor\\nfrom sagemaker.session import Session\\nfrom sagemaker.session import container_def\\nfrom sagemaker.session import production_variant\\nfrom sagemaker.session import s3_input\\nfrom sagemaker.session import get_execution_role\\n\\n\\n__all__ = [estimator, KMeans, KMeansModel, KMeansPredictor, PCA, PCAModel, PCAPredictor, LinearLearner,\\n           LinearLearnerModel, LinearLearnerPredictor,\\n           LDA, LDAModel, LDAPredictor,\\n           FactorizationMachines, FactorizationMachinesModel, FactorizationMachinesPredictor,\\n           Model, NTM, NTMModel, NTMPredictor, RealTimePredictor, Session, LocalSession,\\n           container_def, s3_input, production_variant, get_execution_role]\\n'"
      ]
     },
     "execution_count": 9,
     "metadata": {},
     "output_type": "execute_result"
    }
   ],
   "source": [
    "import inspect\n",
    "\n",
    "src = inspect.getsource(sagemaker)\n",
    "src"
   ]
  },
  {
   "cell_type": "markdown",
   "metadata": {},
   "source": [
    "### Upload the data to a S3 bucket"
   ]
  },
  {
   "cell_type": "code",
   "execution_count": 2,
   "metadata": {},
   "outputs": [],
   "source": [
    "inputs = sagemaker_session.upload_data(path='data', key_prefix='data/DEMO-abalone')"
   ]
  },
  {
   "cell_type": "markdown",
   "metadata": {},
   "source": [
    "**sagemaker_session.upload_data** will upload the abalone dataset from your machine to a bucket named **sagemaker-{your aws account number}**, if you don't have this bucket yet, sagemaker_session will create it for you."
   ]
  },
  {
   "cell_type": "code",
   "execution_count": 3,
   "metadata": {},
   "outputs": [
    {
     "data": {
      "text/plain": [
       "<function ipykernel.ipkernel.<lambda>>"
      ]
     },
     "execution_count": 3,
     "metadata": {},
     "output_type": "execute_result"
    }
   ],
   "source": [
    "input"
   ]
  },
  {
   "cell_type": "code",
   "execution_count": null,
   "metadata": {},
   "outputs": [],
   "source": [
    "'''This is a Lambda function to move things here and there. Lambda functions can be used to move things from EC2 to Bucket which \n",
    "they are doing here\n",
    "Also, this lambda is also written as a function in sage maker....\n",
    "\n",
    "'''"
   ]
  },
  {
   "cell_type": "markdown",
   "metadata": {},
   "source": [
    "## Complete source code\n",
    "Here is the full code for the network model:"
   ]
  },
  {
   "cell_type": "code",
   "execution_count": 3,
   "metadata": {
    "scrolled": false
   },
   "outputs": [
    {
     "name": "stdout",
     "output_type": "stream",
     "text": [
      "import numpy as np\r\n",
      "import os\r\n",
      "import tensorflow as tf\r\n",
      "from tensorflow.python.estimator.export.export import build_raw_serving_input_receiver_fn\r\n",
      "from tensorflow.python.estimator.export.export_output import PredictOutput\r\n",
      "\r\n",
      "INPUT_TENSOR_NAME = \"inputs\"\r\n",
      "SIGNATURE_NAME = \"serving_default\"\r\n",
      "LEARNING_RATE = 0.001\r\n",
      "\r\n",
      "\r\n",
      "def model_fn(features, labels, mode, params):\r\n",
      "    \"\"\"Model function for Estimator.\r\n",
      "     # Logic to do the following:\r\n",
      "     # 1. Configure the model via Keras functional api\r\n",
      "     # 2. Define the loss function for training/evaluation using Tensorflow.\r\n",
      "     # 3. Define the training operation/optimizer using Tensorflow operation/optimizer.\r\n",
      "     # 4. Generate predictions as Tensorflow tensors.\r\n",
      "     # 5. Generate necessary evaluation metrics.\r\n",
      "     # 6. Return predictions/loss/train_op/eval_metric_ops in EstimatorSpec object\"\"\"\r\n",
      "\r\n",
      "    # 1. Configure the model via Keras functional api\r\n",
      "\r\n",
      "    first_hidden_layer = tf.keras.layers.Dense(10, activation='relu', name='first-layer')(features[INPUT_TENSOR_NAME])\r\n",
      "    second_hidden_layer = tf.keras.layers.Dense(10, activation='relu')(first_hidden_layer)\r\n",
      "    output_layer = tf.keras.layers.Dense(1, activation='linear')(second_hidden_layer)\r\n",
      "\r\n",
      "    predictions = tf.reshape(output_layer, [-1])\r\n",
      "\r\n",
      "    # Provide an estimator spec for `ModeKeys.PREDICT`.\r\n",
      "    if mode == tf.estimator.ModeKeys.PREDICT:\r\n",
      "        return tf.estimator.EstimatorSpec(\r\n",
      "            mode=mode,\r\n",
      "            predictions={\"ages\": predictions},\r\n",
      "            export_outputs={SIGNATURE_NAME: PredictOutput({\"ages\": predictions})})\r\n",
      "\r\n",
      "    # 2. Define the loss function for training/evaluation using Tensorflow.\r\n",
      "    loss = tf.losses.mean_squared_error(labels, predictions)\r\n",
      "\r\n",
      "    # 3. Define the training operation/optimizer using Tensorflow operation/optimizer.\r\n",
      "    train_op = tf.contrib.layers.optimize_loss(\r\n",
      "        loss=loss,\r\n",
      "        global_step=tf.contrib.framework.get_global_step(),\r\n",
      "        learning_rate=params[\"learning_rate\"],\r\n",
      "        optimizer=\"SGD\")\r\n",
      "\r\n",
      "    # 4. Generate predictions as Tensorflow tensors.\r\n",
      "    predictions_dict = {\"ages\": predictions}\r\n",
      "\r\n",
      "    # 5. Generate necessary evaluation metrics.\r\n",
      "    # Calculate root mean squared error as additional eval metric\r\n",
      "    eval_metric_ops = {\r\n",
      "        \"rmse\": tf.metrics.root_mean_squared_error(\r\n",
      "            tf.cast(labels, tf.float32), predictions)\r\n",
      "    }\r\n",
      "\r\n",
      "    # Provide an estimator spec for `ModeKeys.EVAL` and `ModeKeys.TRAIN` modes.\r\n",
      "    return tf.estimator.EstimatorSpec(\r\n",
      "        mode=mode,\r\n",
      "        loss=loss,\r\n",
      "        train_op=train_op,\r\n",
      "        eval_metric_ops=eval_metric_ops)\r\n",
      "\r\n",
      "\r\n",
      "def serving_input_fn(params):\r\n",
      "    tensor = tf.placeholder(tf.float32, shape=[1, 7])\r\n",
      "    return build_raw_serving_input_receiver_fn({INPUT_TENSOR_NAME: tensor})()\r\n",
      "\r\n",
      "\r\n",
      "params = {\"learning_rate\": LEARNING_RATE}\r\n",
      "\r\n",
      "\r\n",
      "def train_input_fn(training_dir, params):\r\n",
      "    return _input_fn(training_dir, 'abalone_train.csv')\r\n",
      "\r\n",
      "\r\n",
      "def eval_input_fn(training_dir, params):\r\n",
      "    return _input_fn(training_dir, 'abalone_test.csv')\r\n",
      "\r\n",
      "\r\n",
      "def _input_fn(training_dir, training_filename):\r\n",
      "    training_set = tf.contrib.learn.datasets.base.load_csv_without_header(\r\n",
      "        filename=os.path.join(training_dir, training_filename), target_dtype=np.int, features_dtype=np.float32)\r\n",
      "\r\n",
      "    return tf.estimator.inputs.numpy_input_fn(\r\n",
      "        x={INPUT_TENSOR_NAME: np.array(training_set.data)},\r\n",
      "        y=np.array(training_set.target),\r\n",
      "        num_epochs=None,\r\n",
      "        shuffle=True)()\r\n"
     ]
    }
   ],
   "source": [
    "!cat 'abalone.py'"
   ]
  },
  {
   "cell_type": "markdown",
   "metadata": {},
   "source": [
    "## Defining a `model_fn`\n",
    "\n",
    "The script above implements a `model_fn` as the function responsible for implementing the model for training, evaluation, and prediction. The next section covers how to implement a `model_fn` using `Keras layers`. \n",
    "\n",
    "\n",
    "\n",
    "### Constructing the `model_fn`\n",
    "\n",
    "The basic skeleton for an `model_fn` looks like this:\n",
    "\n",
    "```python\n",
    "def model_fn(features, labels, mode, params):\n",
    "   # Logic to do the following:\n",
    "   # 1. Configure the model via TensorFlow or Keras operations\n",
    "   # 2. Define the loss function for training/evaluation\n",
    "   # 3. Define the training operation/optimizer\n",
    "   # 4. Generate predictions\n",
    "   # 5. Return predictions/loss/train_op/eval_metric_ops in EstimatorSpec object\n",
    "   return EstimatorSpec(mode, predictions, loss, train_op, eval_metric_ops)\n",
    "```\n",
    "\n",
    "The `model_fn` must accept three arguments:\n",
    "\n",
    "*   `features`: A dict containing the features passed to the model via\n",
    "    `input_fn`.\n",
    "*   `labels`: A `Tensor` containing the labels passed to the model via\n",
    "    `input_fn`. Will be empty for `predict()` calls, as these are the values the\n",
    "    model will infer.\n",
    "*   `mode`: One of the following tf.estimator.ModeKeys string values\n",
    "    indicating the context in which the model_fn was invoked:\n",
    "    *   `tf.estimator.ModeKeys.TRAIN` The `model_fn` was invoked in training\n",
    "        mode, namely via a `train()` call.\n",
    "    *   `tf.estimator.ModeKeys.EVAL`. The `model_fn` was invoked in\n",
    "        evaluation mode, namely via an `evaluate()` call.\n",
    "    *   `tf.estimator.ModeKeys.PREDICT`. The `model_fn` was invoked in\n",
    "        predict mode, namely via a `predict()` call.\n",
    "\n",
    "`model_fn` may also accept a `params` argument containing a dict of\n",
    "hyperparameters used for training (as shown in the skeleton above).\n",
    "\n",
    "The body of the function performs the following tasks (described in detail in the\n",
    "sections that follow):\n",
    "\n",
    "*   Configuring the model for the abalone predictor. This will be a neural\n",
    "    network.\n",
    "*   Defining the loss function used to calculate how closely the model's\n",
    "    predictions match the target values.\n",
    "*   Defining the training operation that specifies the `optimizer` algorithm to\n",
    "    minimize the loss values calculated by the loss function.\n",
    "\n",
    "The `model_fn` must return a tf.estimator.EstimatorSpec\n",
    "object, which contains the following values:\n",
    "\n",
    "*   `mode` (required). The mode in which the model was run. Typically, you will\n",
    "    return the `mode` argument of the `model_fn` here.\n",
    "\n",
    "*   `predictions` (required in `PREDICT` mode). A dict that maps key names of\n",
    "    your choice to `Tensor`s containing the predictions from the model, e.g.:\n",
    "\n",
    "    ```python\n",
    "    predictions = {\"results\": tensor_of_predictions}\n",
    "    ```\n",
    "\n",
    "    In `PREDICT` mode, the dict that you return in `EstimatorSpec` will then be\n",
    "    returned by `predict()`, so you can construct it in the format in which\n",
    "    you'd like to consume it.\n",
    "\n",
    "\n",
    "*   `loss` (required in `EVAL` and `TRAIN` mode). A `Tensor` containing a scalar\n",
    "    loss value: the output of the model's loss function (discussed in more depth\n",
    "    later in [Defining loss for the model](https://github.com/tensorflow/tensorflow/blob/eb84435170c694175e38bfa02751c3ef881c7a20/tensorflow/docs_src/extend/estimators.md#defining-loss)) calculated over all\n",
    "    the input examples. This is used in `TRAIN` mode for error handling and\n",
    "    logging, and is automatically included as a metric in `EVAL` mode.\n",
    "\n",
    "*   `train_op` (required only in `TRAIN` mode). An Op that runs one step of\n",
    "    training.\n",
    "\n",
    "*   `eval_metric_ops` (optional). A dict of name/value pairs specifying the\n",
    "    metrics that will be calculated when the model runs in `EVAL` mode. The name\n",
    "    is a label of your choice for the metric, and the value is the result of\n",
    "    your metric calculation. The tf.metrics\n",
    "    module provides predefined functions for a variety of common metrics. The\n",
    "    following `eval_metric_ops` contains an `\"accuracy\"` metric calculated using\n",
    "    `tf.metrics.accuracy`:\n",
    "\n",
    "    ```python\n",
    "    eval_metric_ops = {\n",
    "        \"accuracy\": tf.metrics.accuracy(labels, predictions)\n",
    "    }\n",
    "    ```\n",
    "\n",
    "    If you do not specify `eval_metric_ops`, only `loss` will be calculated\n",
    "    during evaluation.\n",
    "\n",
    "### Configuring a neural network with `keras layers`\n",
    "\n",
    "Constructing a [neural\n",
    "network](https://en.wikipedia.org/wiki/Artificial_neural_network) entails\n",
    "creating and connecting the input layer, the hidden layers, and the output\n",
    "layer.\n",
    "\n",
    "The input layer of the neural network then must be connected to one or more\n",
    "hidden layers via an [activation\n",
    "function](https://en.wikipedia.org/wiki/Activation_function) that performs a\n",
    "nonlinear transformation on the data from the previous layer. The last hidden\n",
    "layer is then connected to the output layer, the final layer in the model.\n",
    "`tf.layers` provides the `tf.layers.dense` function for constructing fully\n",
    "connected layers. The activation is controlled by the `activation` argument.\n",
    "Some options to pass to the `activation` argument are:\n",
    "\n",
    "*   `tf.nn.relu`. The following code creates a layer of `units` nodes fully\n",
    "    connected to the previous layer `input_layer` with a\n",
    "    [ReLU activation function](https://en.wikipedia.org/wiki/Rectifier_\\(neural_networks\\))\n",
    "    (tf.nn.relu):\n",
    "\n",
    "    ```python\n",
    "    hidden_layer = Dense(10, activation='relu', name='first-layer')(features)\n",
    "    ```\n",
    "\n",
    "*   `tf.nn.relu6`. The following code creates a layer of `units` nodes fully\n",
    "    connected to the previous layer `hidden_layer` with a ReLU activation\n",
    "    function:\n",
    "\n",
    "    ```python\n",
    "    second_hidden_layer = Dense(20, activation='relu', name='first-layer')(hidden_layer)\n",
    "    ```\n",
    "\n",
    "*   `None`. The following code creates a layer of `units` nodes fully connected\n",
    "    to the previous layer `second_hidden_layer` with *no* activation function,\n",
    "    just a linear transformation:\n",
    "\n",
    "    ```python\n",
    "    output_layer = Dense(1, activation='linear')(second_hidden_layer)\n",
    "    ```\n",
    "\n",
    "Other activation functions are possible, e.g.:\n",
    "\n",
    "```python\n",
    "output_layer = Dense(10, activation='sigmoid')(second_hidden_layer)\n",
    "```\n",
    "\n",
    "The above code creates the neural network layer `output_layer`, which is fully\n",
    "connected to `second_hidden_layer` with a sigmoid activation function\n",
    "(tf.sigmoid).\n",
    "\n",
    "Putting it all together, the following code constructs a full neural network for\n",
    "the abalone predictor, and captures its predictions:\n",
    "\n",
    "```python\n",
    "def model_fn(features, labels, mode, params):\n",
    "  \"\"\"Model function for Estimator.\"\"\"\n",
    "\n",
    "  # Connect the first hidden layer to input layer\n",
    "  # (features[\"x\"]) with relu activation\n",
    "  first_hidden_layer = Dense(10, activation='relu', name='first-layer')(features['x'])\n",
    "\n",
    "  # Connect the second hidden layer to first hidden layer with relu\n",
    "  second_hidden_layer = Dense(20, activation='relu', name='first-layer')(hidden_layer)\n",
    "\n",
    "  # Connect the output layer to second hidden layer (no activation fn)\n",
    "  output_layer = Dense(1, activation='linear')(second_hidden_layer)\n",
    "\n",
    "  # Reshape output layer to 1-dim Tensor to return predictions\n",
    "  predictions = tf.reshape(output_layer, [-1])\n",
    "  predictions_dict = {\"ages\": predictions}\n",
    "  ...\n",
    "```\n",
    "\n",
    "Here, because you'll be passing the abalone `Datasets` using `numpy_input_fn`\n",
    "as shown below, `features` is a dict `{\"x\": data_tensor}`, so\n",
    "`features[\"x\"]` is the input layer. The network contains two hidden\n",
    "layers, each with 10 nodes and a ReLU activation function. The output layer\n",
    "contains no activation function, and is\n",
    "tf.reshape to a one-dimensional\n",
    "tensor to capture the model's predictions, which are stored in\n",
    "`predictions_dict`.\n",
    "\n",
    "### Defining loss for the model\n",
    "\n",
    "The `EstimatorSpec` returned by the `model_fn` must contain `loss`: a `Tensor`\n",
    "representing the loss value, which quantifies how well the model's predictions\n",
    "reflect the label values during training and evaluation runs. The tf.losses\n",
    "module provides convenience functions for calculating loss using a variety of\n",
    "metrics, including:\n",
    "\n",
    "*   `absolute_difference(labels, predictions)`. Calculates loss using the\n",
    "    [absolute-difference\n",
    "    formula](https://en.wikipedia.org/wiki/Deviation_statistics#Unsigned_or_absolute_deviation)\n",
    "    (also known as L<sub>1</sub> loss).\n",
    "\n",
    "*   `log_loss(labels, predictions)`. Calculates loss using the [logistic loss\n",
    "    forumula](https://en.wikipedia.org/wiki/Loss_functions_for_classification#Logistic_loss)\n",
    "    (typically used in logistic regression).\n",
    "\n",
    "*   `mean_squared_error(labels, predictions)`. Calculates loss using the [mean\n",
    "    squared error](https://en.wikipedia.org/wiki/Mean_squared_error) (MSE; also\n",
    "    known as L<sub>2</sub> loss).\n",
    "\n",
    "The following example adds a definition for `loss` to the abalone `model_fn`\n",
    "using `mean_squared_error()` (in bold):\n",
    "\n",
    "```python\n",
    "def model_fn(features, labels, mode, params):\n",
    "  \"\"\"Model function for Estimator.\"\"\"\n",
    "\n",
    "  # Connect the first hidden layer to input layer\n",
    "  # (features[\"x\"]) with relu activation\n",
    "    first_hidden_layer = Dense(10, activation='relu', name='first-layer')(features[INPUT_TENSOR_NAME])\n",
    "  \n",
    "  # Connect the second hidden layer to first hidden layer with relu\n",
    "  second_hidden_layer = Dense(20, activation='relu')(first_hidden_layer)\n",
    "  \n",
    "  # Connect the output layer to second hidden layer (no activation fn)\n",
    "  output_layer = Dense(1, activation='linear')(second_hidden_layer)\n",
    "\n",
    "  # Reshape output layer to 1-dim Tensor to return predictions\n",
    "  predictions = tf.reshape(output_layer, [-1])\n",
    "  predictions_dict = {\"ages\": predictions}\n",
    "  \n",
    "  # Calculate loss using mean squared error\n",
    "  loss = tf.losses.mean_squared_error(labels, predictions)\n",
    "  ...\n",
    "```"
   ]
  },
  {
   "cell_type": "markdown",
   "metadata": {},
   "source": [
    "Supplementary metrics for evaluation can be added to an `eval_metric_ops` dict.\n",
    "The following code defines an `rmse` metric, which calculates the root mean\n",
    "squared error for the model predictions. Note that the `labels` tensor is cast\n",
    "to a `float64` type to match the data type of the `predictions` tensor, which\n",
    "will contain real values:\n",
    "\n",
    "```python\n",
    "eval_metric_ops = {\n",
    "    \"rmse\": tf.metrics.root_mean_squared_error(\n",
    "        tf.cast(labels, tf.float64), predictions)\n",
    "}\n",
    "```\n",
    "\n",
    "### Defining the training op for the model\n",
    "\n",
    "The training op defines the optimization algorithm TensorFlow will use when\n",
    "fitting the model to the training data. Typically when training, the goal is to\n",
    "minimize loss. A simple way to create the training op is to instantiate a\n",
    "`tf.train.Optimizer` subclass and call the `minimize` method.\n",
    "\n",
    "The following code defines a training op for the abalone `model_fn` using the\n",
    "loss value calculated in [Defining Loss for the Model](https://github.com/tensorflow/tensorflow/blob/eb84435170c694175e38bfa02751c3ef881c7a20/tensorflow/docs_src/extend/estimators.md#defining-loss), the\n",
    "learning rate passed to the function in `params`, and the gradient descent\n",
    "optimizer. For `global_step`, the convenience function\n",
    "tf.train.get_global_step takes care of generating an integer variable:\n",
    "\n",
    "```python\n",
    "optimizer = tf.train.GradientDescentOptimizer(\n",
    "    learning_rate=params[\"learning_rate\"])\n",
    "train_op = optimizer.minimize(\n",
    "    loss=loss, global_step=tf.train.get_global_step())\n",
    "```\n",
    "\n",
    "### The complete abalone `model_fn`\n",
    "\n",
    "Here's the final, complete `model_fn` for the abalone age predictor. The\n",
    "following code configures the neural network; defines loss and the training op;\n",
    "and returns a `EstimatorSpec` object containing `mode`, `predictions_dict`, `loss`,\n",
    "and `train_op`:\n",
    "\n",
    "```python\n",
    "def model_fn(features, labels, mode, params):\n",
    "  \"\"\"Model function for Estimator.\"\"\"\n",
    "\n",
    "  # Connect the first hidden layer to input layer\n",
    "  # (features[\"x\"]) with relu activation\n",
    "    first_hidden_layer = Dense(10, activation='relu', name='first-layer')(features[INPUT_TENSOR_NAME])\n",
    "  \n",
    "  # Connect the second hidden layer to first hidden layer with relu\n",
    "  second_hidden_layer = Dense(20, activation='relu')(first_hidden_layer)\n",
    "  \n",
    "  # Connect the output layer to second hidden layer (no activation fn)\n",
    "  output_layer = Dense(1, activation='linear')(second_hidden_layer)\n",
    "\n",
    "  # Reshape output layer to 1-dim Tensor to return predictions\n",
    "  predictions = tf.reshape(output_layer, [-1])\n",
    "\n",
    "  # Provide an estimator spec for `ModeKeys.PREDICT`.\n",
    "  if mode == tf.estimator.ModeKeys.PREDICT:\n",
    "    return tf.estimator.EstimatorSpec(\n",
    "        mode=mode,\n",
    "        predictions={\"ages\": predictions})\n",
    "\n",
    "  # Calculate loss using mean squared error\n",
    "  loss = tf.losses.mean_squared_error(labels, predictions)\n",
    "\n",
    "  # Calculate root mean squared error as additional eval metric\n",
    "  eval_metric_ops = {\n",
    "      \"rmse\": tf.metrics.root_mean_squared_error(\n",
    "          tf.cast(labels, tf.float64), predictions)\n",
    "  }\n",
    "\n",
    "  optimizer = tf.train.GradientDescentOptimizer(\n",
    "      learning_rate=params[\"learning_rate\"])\n",
    "  train_op = optimizer.minimize(\n",
    "      loss=loss, global_step=tf.train.get_global_step())\n",
    "\n",
    "  # Provide an estimator spec for `ModeKeys.EVAL` and `ModeKeys.TRAIN` modes.\n",
    "  return tf.estimator.EstimatorSpec(\n",
    "      mode=mode,\n",
    "      loss=loss,\n",
    "      train_op=train_op,\n",
    "      eval_metric_ops=eval_metric_ops)\n",
    "```"
   ]
  },
  {
   "cell_type": "markdown",
   "metadata": {},
   "source": [
    "# Submitting script for training\n",
    "\n",
    "We can use the SDK to run our local training script on SageMaker infrastructure.\n",
    "\n",
    "1. Pass the path to the abalone.py file, which contains the functions for defining your estimator, to the sagemaker.TensorFlow init method.\n",
    "2. Pass the S3 location that we uploaded our data to previously to the fit() method."
   ]
  },
  {
   "cell_type": "code",
   "execution_count": null,
   "metadata": {
    "scrolled": false
   },
   "outputs": [
    {
     "name": "stderr",
     "output_type": "stream",
     "text": [
      "INFO:sagemaker:Creating training-job with name: sagemaker-tensorflow-2018-04-11-20-17-34-686\n"
     ]
    },
    {
     "name": "stdout",
     "output_type": "stream",
     "text": [
      "............................................"
     ]
    }
   ],
   "source": [
    "from sagemaker.tensorflow import TensorFlow\n",
    "\n",
    "abalone_estimator = TensorFlow(entry_point='abalone.py',\n",
    "                               role=role,\n",
    "                               training_steps= 100,                                  \n",
    "                               evaluation_steps= 100,\n",
    "                               hyperparameters={'learning_rate': 0.001},\n",
    "                               train_instance_count=1,\n",
    "                               train_instance_type='ml.c4.xlarge')\n",
    "\n",
    "abalone_estimator.fit(inputs)"
   ]
  },
  {
   "cell_type": "markdown",
   "metadata": {},
   "source": [
    "`estimator.fit` will deploy a script in a container for training and returns the SageMaker model name using the following arguments:\n",
    "\n",
    "*   **`entry_point=\"abalone.py\"`** The path to the script that will be deployed to the container.\n",
    "*   **`training_steps=100`** The number of training steps of the training job.\n",
    "*   **`evaluation_steps=100`** The number of evaluation steps of the training job.\n",
    "*   **`role`**. AWS role that gives your account access to SageMaker training and hosting\n",
    "*   **`hyperparameters={'learning_rate' : 0.001}`**. Training hyperparameters. \n",
    "\n",
    "Running the code block above will do the following actions:\n",
    "* deploy your script in a container with tensorflow installed\n",
    "* copy the data from the bucket to the container\n",
    "* instantiate the tf.estimator\n",
    "* train the estimator with 10 training steps\n",
    "* save the estimator model"
   ]
  },
  {
   "cell_type": "markdown",
   "metadata": {},
   "source": [
    "# Submiting a trained model for hosting\n",
    "\n",
    "The deploy() method creates an endpoint which serves prediction requests in real-time."
   ]
  },
  {
   "cell_type": "code",
   "execution_count": null,
   "metadata": {},
   "outputs": [
    {
     "name": "stderr",
     "output_type": "stream",
     "text": [
      "INFO:sagemaker:Creating model with name: sagemaker-tensorflow-2018-04-11-20-06-07-677\n",
      "INFO:sagemaker:Creating endpoint with name sagemaker-tensorflow-2018-04-11-20-06-07-677\n"
     ]
    },
    {
     "name": "stdout",
     "output_type": "stream",
     "text": [
      "-------------------------------------------------------------------------!"
     ]
    }
   ],
   "source": [
    "abalone_predictor = abalone_estimator.deploy(initial_instance_count=1, instance_type='ml.m4.xlarge')"
   ]
  },
  {
   "cell_type": "code",
   "execution_count": null,
   "metadata": {},
   "outputs": [],
   "source": [
    "'''The above took time as it created a container - as it says deploy'''"
   ]
  },
  {
   "cell_type": "markdown",
   "metadata": {},
   "source": [
    "# Invoking the endpoint"
   ]
  },
  {
   "cell_type": "code",
   "execution_count": null,
   "metadata": {},
   "outputs": [],
   "source": [
    "import tensorflow as tf\n",
    "import numpy as np\n",
    "\n",
    "prediction_set = tf.contrib.learn.datasets.base.load_csv_without_header(\n",
    "    filename=os.path.join('data/abalone_predict.csv'), target_dtype=np.int, features_dtype=np.float32)\n",
    "\n",
    "data = prediction_set.data[0]\n",
    "tensor_proto = tf.make_tensor_proto(values=np.asarray(data), shape=[1, len(data)], dtype=tf.float32)"
   ]
  },
  {
   "cell_type": "code",
   "execution_count": null,
   "metadata": {},
   "outputs": [],
   "source": [
    "abalone_predictor.predict(tensor_proto)"
   ]
  },
  {
   "cell_type": "markdown",
   "metadata": {},
   "source": [
    "# Deleting the endpoint"
   ]
  },
  {
   "cell_type": "code",
   "execution_count": null,
   "metadata": {},
   "outputs": [],
   "source": [
    "sagemaker.Session().delete_endpoint(abalone_predictor.endpoint)"
   ]
  }
 ],
 "metadata": {
  "kernelspec": {
   "display_name": "conda_tensorflow_p27",
   "language": "python",
   "name": "conda_tensorflow_p27"
  },
  "language_info": {
   "codemirror_mode": {
    "name": "ipython",
    "version": 2
   },
   "file_extension": ".py",
   "mimetype": "text/x-python",
   "name": "python",
   "nbconvert_exporter": "python",
   "pygments_lexer": "ipython2",
   "version": "2.7.14"
  },
  "notice": "Copyright 2017 Amazon.com, Inc. or its affiliates. All Rights Reserved.  Licensed under the Apache License, Version 2.0 (the \"License\"). You may not use this file except in compliance with the License. A copy of the License is located at http://aws.amazon.com/apache2.0/ or in the \"license\" file accompanying this file. This file is distributed on an \"AS IS\" BASIS, WITHOUT WARRANTIES OR CONDITIONS OF ANY KIND, either express or implied. See the License for the specific language governing permissions and limitations under the License."
 },
 "nbformat": 4,
 "nbformat_minor": 2
}
